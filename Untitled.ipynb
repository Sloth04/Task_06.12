{
 "cells": [
  {
   "cell_type": "code",
   "execution_count": 1,
   "id": "9a6f19ff",
   "metadata": {},
   "outputs": [],
   "source": [
    "import pandas as pd\n",
    "from main import Records, Resourse, Models\n",
    "from main import session\n",
    "from config import *"
   ]
  },
  {
   "cell_type": "code",
   "execution_count": 2,
   "id": "ebdba559",
   "metadata": {},
   "outputs": [
    {
     "name": "stdout",
     "output_type": "stream",
     "text": [
      "  company_alias     y_code service_type  w_code            datetime  direction  volume    payment\n",
      "0         name1  CA_UA_IPS          FCR  62W001 2021-05-16 00:00:00  Symmetric     165  166806.94\n",
      "1         name1  CA_UA_IPS          FCR  62W001 2021-05-16 01:00:00  Symmetric      14    1333.36\n",
      "2         name1  CA_UA_IPS          FCR  62W001 2021-05-16 02:00:00  Symmetric      94  143052.96\n",
      "3         name1  CA_UA_IPS          FCR  62W001 2021-05-16 03:00:00  Symmetric      70  119156.80\n",
      "4         name1  CA_UA_IPS          FCR  62W001 2021-05-16 04:00:00  Symmetric      15   22794.75\n",
      "5         name1  CA_UA_IPS          FCR  62W001 2021-05-16 05:00:00  Symmetric      70   68901.70\n",
      "6         name1  CA_UA_IPS          FCR  62W001 2021-05-16 06:00:00  Symmetric      85    7458.75\n",
      "7         name1  CA_UA_IPS          FCR  62W001 2021-05-16 07:00:00  Symmetric      65  109571.15\n",
      "8         name1  CA_UA_IPS          FCR  62W001 2021-05-16 08:00:00  Symmetric      90   14787.90\n",
      "9         name1  CA_UA_IPS          FCR  62W001 2021-05-16 09:00:00  Symmetric      86  130972.84\n"
     ]
    }
   ],
   "source": [
    "def report(day):\n",
    "    file_name = 'report_for_'+day\n",
    "    q = session.query(Resourse.company_alias, Resourse.y_code,\n",
    "                      Models.service_type, Records.w_code, Records.datetime,\n",
    "                      Models.direction, Records.volume, Records.payment)\\\n",
    "        .join(Models)\\\n",
    "        .join(Resourse)\\\n",
    "        .filter(Records.datetime.like(f'{day}%'))\n",
    "    df = pd.read_sql(q.statement, session.bind)\n",
    "    print(df.head(10).to_string())\n",
    "\n",
    "day_report = '2021-05-16'\n",
    "report(day_report)"
   ]
  },
  {
   "cell_type": "code",
   "execution_count": null,
   "id": "5ce3e1f5",
   "metadata": {},
   "outputs": [],
   "source": []
  }
 ],
 "metadata": {
  "kernelspec": {
   "display_name": "Python 3 (ipykernel)",
   "language": "python",
   "name": "python3"
  },
  "language_info": {
   "codemirror_mode": {
    "name": "ipython",
    "version": 3
   },
   "file_extension": ".py",
   "mimetype": "text/x-python",
   "name": "python",
   "nbconvert_exporter": "python",
   "pygments_lexer": "ipython3",
   "version": "3.7.8"
  }
 },
 "nbformat": 4,
 "nbformat_minor": 5
}
